{
 "cells": [
  {
   "cell_type": "markdown",
   "metadata": {},
   "source": [
    "## Counting the number of patterns in cutting stock problem\n",
    "Firstly, let's define the cutting stock problem. A dictionary will indicate the order in which we will add product widths to the problem."
   ]
  },
  {
   "cell_type": "code",
   "execution_count": 67,
   "metadata": {
    "collapsed": true
   },
   "outputs": [],
   "source": [
    "max_width = 10\n",
    "widths = {1: 6,\n",
    "          2: 3,\n",
    "          3: 2,\n",
    "          4: 4,\n",
    "          5: 8,\n",
    "          6: 5,\n",
    "          7: 1,\n",
    "          8: 10,\n",
    "          9: 9,\n",
    "          10: 7}"
   ]
  },
  {
   "cell_type": "markdown",
   "metadata": {},
   "source": [
    "Now define a function that will count the number of patterns (called sets here). Arguments are:\n",
    "* widths_ord, a list of product widths in descending order\n",
    "* start, the index of the product width where we wish to start counting\n",
    "* rem_width, the width remaining on the large roll to cut\n",
    "* verbose=True, a flag to indicate whether to output the patterns generated"
   ]
  },
  {
   "cell_type": "code",
   "execution_count": 68,
   "metadata": {
    "collapsed": false
   },
   "outputs": [],
   "source": [
    "def count_sets(widths_ord, start, rem_width, prev_string, verbose=True):\n",
    "    total_sets = 0\n",
    "    no_child = False\n",
    "    # no_child is used to avoid double-counting. It will be set to True when there is not enough space to make any cuts\n",
    "    # with the next (child) product width\n",
    "    if start < len(widths_ord):\n",
    "        # if start = len(widths_ord), then we've gone past the last product width, so then return total_sets = 0\n",
    "        max_div = rem_width / widths_ord[start]\n",
    "        # the maximum times we can cut the width out of the remaining width on the roll\n",
    "        for i in range(1, max_div + 1):\n",
    "            # for every time that we can cut this width, we will call the function on the next (child) product width\n",
    "            new_string = prev_string + (\" \" + str(widths_ord[start])) * i \n",
    "            # this passes the cuts made so far\n",
    "            child_sets = count_sets(widths_ord, start + 1, rem_width - (i * widths_ord[start]), new_string, verbose)\n",
    "            # count of patterns for the next (child) product width\n",
    "            if child_sets == 0 and not no_child:\n",
    "                # if there is not enough space to make any cuts with the next (child) product width \n",
    "                child_sets = 1\n",
    "                # count it as one pattern\n",
    "                no_child = True\n",
    "                # stop for this product width (otherwise we will double count)\n",
    "                if verbose:\n",
    "                    print new_string + (\" \" + str(widths_ord[start])) * (max_div - i)\n",
    "            total_sets += child_sets\n",
    "            # add up the child pattern counts for every time we cut our product width\n",
    "        total_sets += count_sets(widths_ord, start + 1, rem_width, prev_string, verbose)\n",
    "        # recurse to count patterns that start with the next (child) product width\n",
    "    return total_sets"
   ]
  },
  {
   "cell_type": "markdown",
   "metadata": {},
   "source": [
    "We can check the patterns that are generated with 2 product widths:"
   ]
  },
  {
   "cell_type": "code",
   "execution_count": 69,
   "metadata": {
    "collapsed": false
   },
   "outputs": [
    {
     "name": "stdout",
     "output_type": "stream",
     "text": [
      " 6 3\n",
      " 3 3 3\n",
      "2\n"
     ]
    }
   ],
   "source": [
    "products = 2\n",
    "widths_sub = {k:v for (k,v) in widths.items() if k <= products}\n",
    "print count_sets(sorted(widths_sub.values(), reverse=True), 0, max_width, \"\")"
   ]
  },
  {
   "cell_type": "markdown",
   "metadata": {},
   "source": [
    "Now we will loop from one product width to 10 product widths and collect counts of patterns for every number of product widths:"
   ]
  },
  {
   "cell_type": "code",
   "execution_count": 70,
   "metadata": {
    "collapsed": false
   },
   "outputs": [
    {
     "data": {
      "text/plain": [
       "{1: 1, 2: 2, 3: 6, 4: 11, 5: 12, 6: 16, 7: 37, 8: 38, 9: 39, 10: 42}"
      ]
     },
     "execution_count": 70,
     "metadata": {},
     "output_type": "execute_result"
    }
   ],
   "source": [
    "counts = {}\n",
    "max_prod = len(widths)\n",
    "for i in range(1, max_prod + 1):\n",
    "    widths_sub = {k:v for (k,v) in widths.items() if k <= i}\n",
    "    counts[i] = count_sets(sorted(widths_sub.values(), reverse=True), 0, max_width, \"\", verbose=False)\n",
    "counts"
   ]
  }
 ],
 "metadata": {
  "kernelspec": {
   "display_name": "Python 2",
   "language": "python",
   "name": "python2"
  },
  "language_info": {
   "codemirror_mode": {
    "name": "ipython",
    "version": 2
   },
   "file_extension": ".py",
   "mimetype": "text/x-python",
   "name": "python",
   "nbconvert_exporter": "python",
   "pygments_lexer": "ipython2",
   "version": "2.7.11"
  }
 },
 "nbformat": 4,
 "nbformat_minor": 0
}
